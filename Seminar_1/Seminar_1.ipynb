{
 "cells": [
  {
   "cell_type": "markdown",
   "metadata": {},
   "source": [
    "<!-- <div style='float:right'><img width=200 src=\"hse-logo.jpg\" alt=\"HSE logo\"></img></div> -->\n",
    "<div style='float:left'><img width=400 src=\"python_logo.png\" alt=\"Python\"></img></div>\n",
    "\n",
    "<div style='float:right'>\n",
    "\n",
    "<h1 align='center'>Язык программирования Python</h1>\n",
    "\n",
    "<h2 align='right'>Бобер Станислав Алексеевич</h2>\n",
    "<h3 align='right'>Ст. преп. Департамента Прикладной Математики</h3>\n",
    "<h3 align='right'>e-mail: sbober@hse.ru, stas.bober@gmail.com</h3>\n",
    "</div>"
   ]
  },
  {
   "cell_type": "markdown",
   "metadata": {},
   "source": [
    "<h1 align='center'>Семинар 1</h1>"
   ]
  },
  {
   "cell_type": "markdown",
   "metadata": {},
   "source": [
    "# Темы семинара:\n",
    "\n",
    "### 0. Функция open\n",
    "### 1. With ... as\n",
    "### 2. Модуль pickle\n",
    "### 3. Форматирование строк, join\n",
    "### 4. Работа с текстовыми файлами"
   ]
  },
  {
   "cell_type": "markdown",
   "metadata": {},
   "source": [
    "## 0. Функция open"
   ]
  },
  {
   "cell_type": "code",
   "execution_count": 30,
   "metadata": {
    "collapsed": true
   },
   "outputs": [],
   "source": [
    "# основные аргументы функции open\n",
    "\n",
    "# open('путь_к_файлу/имя_файла', mode='режим_доступа', encoding='кодировка')"
   ]
  },
  {
   "cell_type": "raw",
   "metadata": {},
   "source": [
    "Режимы доступа к файлу\n",
    "\n",
    "'r'       open for reading (default)\n",
    "'w'       open for writing, truncating the file first\n",
    "'x'       create a new file and open it for writing\n",
    "'a'       open for writing, appending to the end of the file if it exists\n",
    "'b'       binary mode\n",
    "'t'       text mode (default)\n",
    "'+'       open a disk file for updating (reading and writing)"
   ]
  },
  {
   "cell_type": "code",
   "execution_count": 3,
   "metadata": {
    "collapsed": true
   },
   "outputs": [],
   "source": [
    "# открытие текстового файла для записи\n",
    "f = open('example_0.txt', 'wt', encoding='utf-8')\n",
    "\n",
    "text = 'Если фотон направляется к плоскости с двумя щелями, в одной из которых детектор, интерференции не будет. Если детектора нет — будет. Если вернуть детектор, когда фотон покинул плоскость, но не достиг конечной точки, интерференция снова пропадет.'\n",
    "\n",
    "f.write(text) # запись содержимого строки\n",
    "f.close()"
   ]
  },
  {
   "cell_type": "code",
   "execution_count": null,
   "metadata": {
    "collapsed": true
   },
   "outputs": [],
   "source": [
    "# загрузка текста для проверки при помощи магической команды jupyter"
   ]
  },
  {
   "cell_type": "code",
   "execution_count": null,
   "metadata": {
    "collapsed": true
   },
   "outputs": [],
   "source": [
    "%load example_0.txt"
   ]
  },
  {
   "cell_type": "markdown",
   "metadata": {},
   "source": [
    "## 1. With ... as"
   ]
  },
  {
   "cell_type": "code",
   "execution_count": 28,
   "metadata": {
    "collapsed": true
   },
   "outputs": [],
   "source": [
    "# тоже самое, но проще\n",
    "with open('example_0.txt', 'wt', encoding='utf-8') as f:\n",
    "    f.write(text)"
   ]
  },
  {
   "cell_type": "code",
   "execution_count": 29,
   "metadata": {
    "scrolled": true
   },
   "outputs": [
    {
     "name": "stdout",
     "output_type": "stream",
     "text": [
      "Если фотон направляется к плоскости с двумя щелями, в одной из которых детектор, интерференции не будет. Если детектора нет — будет. Если вернуть детектор, когда фотон покинул плоскость, но не достиг конечной точки, интерференция снова пропадет.\n"
     ]
    }
   ],
   "source": [
    "# прочитать и вывести содержание файла\n",
    "with open('example_0.txt', 'rt', encoding='utf-8') as f:\n",
    "    print(f.read())"
   ]
  },
  {
   "cell_type": "markdown",
   "metadata": {},
   "source": [
    "## 2. Pickle"
   ]
  },
  {
   "cell_type": "code",
   "execution_count": 23,
   "metadata": {
    "collapsed": true
   },
   "outputs": [],
   "source": [
    "import pickle"
   ]
  },
  {
   "cell_type": "code",
   "execution_count": 24,
   "metadata": {
    "collapsed": true
   },
   "outputs": [],
   "source": [
    "# запись списка из целых чисел в бинарный файл\n",
    "lst = list(range(500,510))\n",
    "\n",
    "with open('example_1.bin', 'wb') as f:\n",
    "    pickle.dump(lst, f)"
   ]
  },
  {
   "cell_type": "code",
   "execution_count": 31,
   "metadata": {},
   "outputs": [
    {
     "data": {
      "text/plain": [
       "[500, 501, 502, 503, 504, 505, 506, 507, 508, 509]"
      ]
     },
     "execution_count": 31,
     "metadata": {},
     "output_type": "execute_result"
    }
   ],
   "source": [
    "# загрузка сохраненного списка\n",
    "with open('example_1.bin', 'rb') as f:\n",
    "    data = pickle.load(f)\n",
    "data"
   ]
  },
  {
   "cell_type": "code",
   "execution_count": 34,
   "metadata": {
    "collapsed": true
   },
   "outputs": [],
   "source": [
    "# сохранение и загрузка сложных объектов\n",
    "d = {'list':[6.0, 7.3, 8.8], 'tuple':(0, 9, 8), 'string':'test_string'}\n",
    "\n",
    "with open('example_2.bin', 'wb') as f:\n",
    "    pickle.dump(d, f)"
   ]
  },
  {
   "cell_type": "code",
   "execution_count": 35,
   "metadata": {},
   "outputs": [
    {
     "data": {
      "text/plain": [
       "{'list': [6.0, 7.3, 8.8], 'tuple': (0, 9, 8), 'string': 'test_string'}"
      ]
     },
     "execution_count": 35,
     "metadata": {},
     "output_type": "execute_result"
    }
   ],
   "source": [
    "with open('example_2.bin', 'rb') as f:\n",
    "    data = pickle.load(f)\n",
    "data"
   ]
  },
  {
   "cell_type": "markdown",
   "metadata": {},
   "source": [
    "## 3. Форматирование строк, join"
   ]
  },
  {
   "cell_type": "code",
   "execution_count": 38,
   "metadata": {},
   "outputs": [
    {
     "data": {
      "text/plain": [
       "\"В строке можно разместить: целое число '1', действительное число '2.5', строку 'abcdef'\""
      ]
     },
     "execution_count": 38,
     "metadata": {},
     "output_type": "execute_result"
    }
   ],
   "source": [
    "# вспомним форматирование в стиле \"Си\"\n",
    "\n",
    "\"В строке можно разместить: целое число '%d', \\\n",
    "действительное число '%.1f', строку '%s'\"%(1, 2.5, 'abcdef')"
   ]
  },
  {
   "cell_type": "code",
   "execution_count": 39,
   "metadata": {},
   "outputs": [
    {
     "data": {
      "text/plain": [
       "\"В строке можно разместить: целое число '1', действительное число '2.5', строку 'abcdef'\""
      ]
     },
     "execution_count": 39,
     "metadata": {},
     "output_type": "execute_result"
    }
   ],
   "source": [
    "# продвинутое форматирование\n",
    "\n",
    "\"В строке можно разместить: целое число '{i}', \\\n",
    "действительное число '{f}', строку '{s}'\".format(i=1, f=2.5, s='abcdef')"
   ]
  },
  {
   "cell_type": "code",
   "execution_count": 42,
   "metadata": {},
   "outputs": [
    {
     "data": {
      "text/plain": [
       "'Первый элемент списка: a, второй: bb, третий: (3, 4)'"
      ]
     },
     "execution_count": 42,
     "metadata": {},
     "output_type": "execute_result"
    }
   ],
   "source": [
    "'Первый элемент списка: {lst[0]}, второй: {lst[1]}, \\\n",
    "третий: {lst[2]}'.format(lst=['a', 'bb', (3, 4)])"
   ]
  },
  {
   "cell_type": "code",
   "execution_count": 44,
   "metadata": {},
   "outputs": [
    {
     "name": "stdout",
     "output_type": "stream",
     "text": [
      "— Угадайте, что произошло?\n",
      "— Ты шел по коридору, наткнулся на межпространственный портал, \n",
      "который перекинул тебя на пять тысяч лет в будущее, в котором, \n",
      "пользуюсь преимуществом и технологией, ты построил машину времени, \n",
      "а сейчас вернулся, чтобы взять нас с собой в семь тысяч десятый год, \n",
      "где на работу в мыслинарий нас будут возить телепатически управляемые \n",
      "летающие дельфины?\n"
     ]
    },
    {
     "data": {
      "text/plain": [
       "'— Угадайте, что произошло?\\n— Ты шел по коридору, наткнулся на межпространственный портал, \\nкоторый перекинул тебя на пять тысяч лет в будущее, в котором, \\nпользуюсь преимуществом и технологией, ты построил машину времени, \\nа сейчас вернулся, чтобы взять нас с собой в семь тысяч десятый год, \\nгде на работу в мыслинарий нас будут возить телепатически управляемые \\nлетающие дельфины?'"
      ]
     },
     "execution_count": 44,
     "metadata": {},
     "output_type": "execute_result"
    }
   ],
   "source": [
    "# многострочная запись текста\n",
    "\n",
    "lines = '''— Угадайте, что произошло?\n",
    "— Ты шел по коридору, наткнулся на межпространственный портал, \n",
    "который перекинул тебя на пять тысяч лет в будущее, в котором, \n",
    "пользуюсь преимуществом и технологией, ты построил машину времени, \n",
    "а сейчас вернулся, чтобы взять нас с собой в семь тысяч десятый год, \n",
    "где на работу в мыслинарий нас будут возить телепатически управляемые \n",
    "летающие дельфины?'''\n",
    "print(lines)\n",
    "lines"
   ]
  },
  {
   "cell_type": "code",
   "execution_count": 77,
   "metadata": {},
   "outputs": [
    {
     "data": {
      "text/plain": [
       "['Вот здорово!',\n",
       " 'Посмотри на меня.',\n",
       " 'Я в реальном мире обычных людей,',\n",
       " 'живущих своей унылой обыденной жизнью.']"
      ]
     },
     "execution_count": 77,
     "metadata": {},
     "output_type": "execute_result"
    }
   ],
   "source": [
    "# метод строки join позволяет объединить список строк в одну\n",
    "\n",
    "lst = ['Вот здорово!',\n",
    "       'Посмотри на меня.',\n",
    "       'Я в реальном мире обычных людей,',\n",
    "       'живущих своей унылой обыденной жизнью.']\n",
    "lst"
   ]
  },
  {
   "cell_type": "code",
   "execution_count": 78,
   "metadata": {},
   "outputs": [
    {
     "name": "stdout",
     "output_type": "stream",
     "text": [
      "Вот здорово!\n",
      "Посмотри на меня.\n",
      "Я в реальном мире обычных людей,\n",
      "живущих своей унылой обыденной жизнью.\n"
     ]
    },
    {
     "data": {
      "text/plain": [
       "'Вот здорово!\\nПосмотри на меня.\\nЯ в реальном мире обычных людей,\\nживущих своей унылой обыденной жизнью.'"
      ]
     },
     "execution_count": 78,
     "metadata": {},
     "output_type": "execute_result"
    }
   ],
   "source": [
    "s = '\\n'.join(lst)\n",
    "print(s)\n",
    "s"
   ]
  },
  {
   "cell_type": "code",
   "execution_count": 83,
   "metadata": {},
   "outputs": [
    {
     "name": "stdout",
     "output_type": "stream",
     "text": [
      "ВОт здОрОвО!\n",
      "ПОсмОтри на меня.\n",
      "Я в реальнОм мире Обычных людей,\n",
      "живущих свОей унылОй ОбыденнОй жизнью.\n"
     ]
    }
   ],
   "source": [
    "# замена всех подстрок в строке на заданную\n",
    "print(s.replace('о', 'О'))"
   ]
  },
  {
   "cell_type": "code",
   "execution_count": 82,
   "metadata": {
    "scrolled": true
   },
   "outputs": [
    {
     "name": "stdout",
     "output_type": "stream",
     "text": [
      "Вот здорово!\n",
      "Посмотри на меня\n",
      "Я в реальном мире обычных людей,\n",
      "живущих своей унылой обыденной жизнью\n"
     ]
    }
   ],
   "source": [
    "# удаление всех подстрок в строке\n",
    "print(s.replace('.', ''))"
   ]
  },
  {
   "cell_type": "markdown",
   "metadata": {},
   "source": [
    "## 4. Работа с текстовыми файлами"
   ]
  },
  {
   "cell_type": "markdown",
   "metadata": {},
   "source": [
    "### 4.1 Задание\n",
    "\n",
    "Текст произведения Льюиса Кэрролла находится в файле alice.txt (загружено отсюда: http://lib.ru/CARROLL/alice.txt).\n",
    "Требуется вывести 20 наиболее часто встречающихся в тексте слов.\n",
    "\n",
    "Задействуются умения:\n",
    "- загрузка из файла\n",
    "- использование методов split, replace\n",
    "- работа со списками и словарями"
   ]
  },
  {
   "cell_type": "code",
   "execution_count": 82,
   "metadata": {
    "collapsed": true
   },
   "outputs": [],
   "source": [
    "file = open('alice.txt')\n",
    "a = file.read()\n",
    "d = dict()\n",
    "\n",
    "for word in a.lower().split():\n",
    "    word = word.replace(\".\",\"\")\n",
    "    word = word.replace(\",\",\"\")\n",
    "    word = word.replace(\":\",\"\")\n",
    "    word = word.replace(\"\\\\\",\"\")\n",
    "    word = word.replace(\"!\",\"\")\n",
    "    word = word.replace(\";\",\"\")\n",
    "    word = word.replace(\"&\",\"\")\n",
    "    word = word.replace(\")\",\"\")\n",
    "    word = word.replace(\"(\",\"\")\n",
    "    word = word.replace(\"*\",\"\")\n",
    "    word = word.replace(\"`\",\"\")\n",
    "    word = word.replace(\"?\",\"\")\n",
    "    if word.find('<') == -1 and word.find('>') == -1 and word.find('=') == -1 and word != \"\":\n",
    "        if word in d:\n",
    "            d[word] += 1\n",
    "        else:\n",
    "            d[word] = 1"
   ]
  },
  {
   "cell_type": "code",
   "execution_count": 83,
   "metadata": {},
   "outputs": [
    {
     "data": {
      "text/plain": [
       "[('the', 1636),\n",
       " ('and', 849),\n",
       " ('to', 734),\n",
       " ('a', 628),\n",
       " ('she', 535),\n",
       " ('of', 514),\n",
       " ('it', 476),\n",
       " ('said', 455),\n",
       " ('i', 386),\n",
       " ('alice', 383),\n",
       " ('in', 370),\n",
       " ('was', 351),\n",
       " ('you', 345),\n",
       " ('as', 270),\n",
       " ('that', 251),\n",
       " ('her', 246),\n",
       " ('at', 209),\n",
       " ('on', 184),\n",
       " ('with', 179),\n",
       " ('had', 176)]"
      ]
     },
     "execution_count": 83,
     "metadata": {},
     "output_type": "execute_result"
    }
   ],
   "source": [
    "sorted(d.items(), key=lambda t:t[1], reverse=True)[:20]"
   ]
  },
  {
   "cell_type": "code",
   "execution_count": null,
   "metadata": {
    "collapsed": true
   },
   "outputs": [],
   "source": []
  },
  {
   "cell_type": "markdown",
   "metadata": {},
   "source": [
    "### 4.2 Задание\n",
    "\n",
    "*Дан текстовый файл em16_edm_v00.tf, содержащий описание фреймов*\n",
    "https://naif.jpl.nasa.gov/pub/naif/EXOMARS2016/kernels/fk/em16_edm_v00.tf"
   ]
  },
  {
   "cell_type": "raw",
   "metadata": {},
   "source": [
    "Содержательные части файла заключены между строками '\\begindata' и '\\begintext', например:\n",
    "\n",
    "\\begindata\n",
    "\n",
    "  FRAME_EDM_SURFACE_FIXED      =  -117901\n",
    "  FRAME_-117901_NAME           = 'EDM_SURFACE_FIXED'\n",
    "  FRAME_-117901_CLASS          =  4\n",
    "  FRAME_-117901_CLASS_ID       =  -117901\n",
    "  FRAME_-117901_CENTER         =  -117\n",
    "\n",
    "  TKFRAME_-117901_RELATIVE     = 'EDM_TOPO'\n",
    "  TKFRAME_-117901_SPEC         = 'ANGLES'\n",
    "  TKFRAME_-117901_UNITS        = 'DEGREES'\n",
    "  TKFRAME_-117901_AXES         = ( 1,      2,      3     )\n",
    "  TKFRAME_-117901_ANGLES       = ( 0.000,  0.000,  0.000 )\n",
    "\n",
    "\\begintext"
   ]
  },
  {
   "cell_type": "markdown",
   "metadata": {},
   "source": [
    "*Требуется:*\n",
    "- выделить содержательные части файла и разместить их в списке из строк\n",
    "- на основе каждой содержательной части создать словарь, содержащий имя фрейма, его идентификатор и класс (в результате - список словарей)\n",
    "- вывести на экран список имен фреймов и их количество\n",
    "- сохранить список словарей в бинарном файле, загрузить его из файла вновь и вывести на экран"
   ]
  },
  {
   "cell_type": "code",
   "execution_count": 75,
   "metadata": {
    "collapsed": true
   },
   "outputs": [],
   "source": [
    "# для примера приведенного выше словарь должен выглядеть следующим образом:\n",
    "# {'name':'EDM_SURFACE_FIXED', 'id':-117901, 'class':4}"
   ]
  },
  {
   "cell_type": "code",
   "execution_count": 1,
   "metadata": {
    "collapsed": true
   },
   "outputs": [],
   "source": [
    "file = open('em16_edm_v00.tf')\n",
    "a = file.read()"
   ]
  },
  {
   "cell_type": "code",
   "execution_count": 2,
   "metadata": {
    "collapsed": true
   },
   "outputs": [],
   "source": [
    "start_keyword = \"\\\\begindata\"\n",
    "end_keyword = \"\\\\begintext\""
   ]
  },
  {
   "cell_type": "code",
   "execution_count": 14,
   "metadata": {
    "collapsed": true
   },
   "outputs": [],
   "source": [
    "name_keyword = \"NAME\"\n",
    "id_keyword = \"CLASS_ID\"\n",
    "class_keyword = \"CLASS\""
   ]
  },
  {
   "cell_type": "code",
   "execution_count": 82,
   "metadata": {},
   "outputs": [],
   "source": [
    "def findData(line, data):\n",
    "    if line.find(name_keyword) != -1:\n",
    "        data[\"name\"] = line[line.find(\"=\")+2:-2].replace(\" \", \"\")\n",
    "    elif line.find(id_keyword) != -1:\n",
    "        data[\"id\"] = line[line.find(\"=\")+1:-1].replace(\" \", \"\")\n",
    "    elif line.find(class_keyword) != -1:\n",
    "        data[\"class\"] = line[line.find(\"=\")+1:-1].replace(\" \", \"\")"
   ]
  },
  {
   "cell_type": "code",
   "execution_count": 84,
   "metadata": {
    "scrolled": true
   },
   "outputs": [
    {
     "name": "stdout",
     "output_type": "stream",
     "text": [
      "\n",
      "      FRAME_EDM_LANDER                 = -117000\n",
      "      FRAME_-117000_NAME               = 'EDM_LANDER'\n",
      "      FRAME_-117000_CLASS              =  3\n",
      "      FRAME_-117000_CLASS_ID           = -117000\n",
      "      FRAME_-117000_CENTER             = -117\n",
      "      CK_-117000_SCLK                  = -117\n",
      "      CK_-117000_SPK                   = -117\n",
      "      OBJECT_-117_FRAME                = 'EDM_LANDER'\n",
      "\n",
      "      FRAME_EDM_LANDER_CRUISE          = -117001\n",
      "      FRAME_-117001_NAME               = 'EDM_LANDER_CRUISE'\n",
      "      FRAME_-117001_CLASS              =  3\n",
      "      FRAME_-117001_CLASS_ID           = -117001\n",
      "      FRAME_-117001_CENTER             = -117\n",
      "      CK_-117001_SCLK                  = -117\n",
      "      CK_-117001_SPK                   = -117\n",
      "      OBJECT_-117_FRAME                = 'EDM_LANDER_CRUISE'\n",
      "\n",
      "{}\n",
      "\n",
      "       FRAME_EDM_TOPO               = -117900\n",
      "       FRAME_-117900_NAME           = 'EDM_TOPO'\n",
      "       FRAME_-117900_CLASS          =  4\n",
      "       FRAME_-117900_CLASS_ID       =  -117900\n",
      "       FRAME_-117900_CENTER         =  -117900\n",
      "\n",
      "       TKFRAME_-117900_RELATIVE     = 'IAU_MARS'\n",
      "       TKFRAME_-117900_SPEC         = 'ANGLES'\n",
      "       TKFRAME_-117900_UNITS        = 'DEGREES'\n",
      "       TKFRAME_-117900_AXES         = ( 3, 2, 3 )\n",
      "       TKFRAME_-117900_ANGLES       = ( 6.15, -91.82, 180.000  )\n",
      "\n",
      "{}\n",
      "  \n",
      "      FRAME_EDM_SURFACE_FIXED      =  -117901\n",
      "      FRAME_-117901_NAME           = 'EDM_SURFACE_FIXED'\n",
      "      FRAME_-117901_CLASS          =  4\n",
      "      FRAME_-117901_CLASS_ID       =  -117901\n",
      "      FRAME_-117901_CENTER         =  -117\n",
      "\n",
      "      TKFRAME_-117901_RELATIVE     = 'EDM_TOPO'\n",
      "      TKFRAME_-117901_SPEC         = 'ANGLES'\n",
      "      TKFRAME_-117901_UNITS        = 'DEGREES'\n",
      "      TKFRAME_-117901_AXES         = ( 1,      2,      3     )\n",
      "      TKFRAME_-117901_ANGLES       = ( 0.000,  0.000,  0.000 )\n",
      "\n",
      "{}\n",
      "\n",
      "      FRAME_EDM_LANDED_LOCAL       =  -117903\n",
      "      FRAME_-117903_NAME           = 'EDM_LANDED_LOCAL'\n",
      "      FRAME_-117903_CLASS          =  4\n",
      "      FRAME_-117903_CLASS_ID       =  -117903\n",
      "      FRAME_-117903_CENTER         =  -117\n",
      "\n",
      "      TKFRAME_-117903_RELATIVE     = 'EDM_TOPO'\n",
      "      TKFRAME_-117903_SPEC         = 'ANGLES'\n",
      "      TKFRAME_-117903_UNITS        = 'DEGREES'\n",
      "      TKFRAME_-117903_AXES         = (   1,      2,      3     )\n",
      "      TKFRAME_-117903_ANGLES       = ( 180.000,  0.000,  0.000 )\n",
      "\n",
      "{}\n",
      "\n",
      "      NAIF_BODY_NAME += ( 'EDL DEMONSTRATOR MODULE'     )\n",
      "      NAIF_BODY_CODE += ( -117                          )\n",
      "\n",
      "      NAIF_BODY_NAME += ( 'EDM'                         )\n",
      "      NAIF_BODY_CODE += ( -117                          )\n",
      "      \n",
      "      NAIF_BODY_NAME += ( 'EXOMARS 2016 EDM'            )\n",
      "      NAIF_BODY_CODE += ( -117                          )\n",
      "\n",
      "      NAIF_BODY_NAME += ( 'EDM_LANDER'                  )      \n",
      "      NAIF_BODY_CODE += ( -117000                       )\n",
      "\n",
      "      NAIF_BODY_NAME += ( 'EDM_LANDING_SITE'            )      \n",
      "      NAIF_BODY_CODE += ( -117900                       )\n",
      "      \n",
      "\n",
      "      NAIF_BODY_NAME += ( 'EDM_AMELIA'                  )      \n",
      "      NAIF_BODY_CODE += ( -117100                       )\n",
      "      \n",
      "      NAIF_BODY_NAME += ( 'EDM_COMARS'                  )      \n",
      "      NAIF_BODY_CODE += ( -117200                       )\n",
      "      \n",
      "      NAIF_BODY_NAME += ( 'EDM_DECA'                    )      \n",
      "      NAIF_BODY_CODE += ( -117500                       )\n",
      "\n",
      "      NAIF_BODY_NAME += ( 'EDM_DREAMS'                  )      \n",
      "      NAIF_BODY_CODE += ( -117300                       )\n",
      "      \n",
      "      NAIF_BODY_NAME += ( 'EDM_INRRI'                   )      \n",
      "      NAIF_BODY_CODE += ( -117400                       )\n",
      "\n",
      "{}\n"
     ]
    }
   ],
   "source": [
    "file = open('em16_edm_v00.tf')\n",
    "is_in = False\n",
    "important_lines = []\n",
    "for line in file.readlines():\n",
    "    if line.find(start_keyword) != -1:\n",
    "        data = dict()\n",
    "        is_in = True\n",
    "        continue\n",
    "    if line.find(end_keyword) != -1:\n",
    "        print(data)\n",
    "        is_in = False\n",
    "    if not is_in:\n",
    "        continue\n",
    "    important_lines.append(line)\n",
    "    print(line, end='')\n",
    " #   findData(line, data)"
   ]
  },
  {
   "cell_type": "code",
   "execution_count": 62,
   "metadata": {
    "scrolled": true
   },
   "outputs": [
    {
     "data": {
      "text/plain": [
       "['\\n',\n",
       " '      FRAME_EDM_LANDER                 = -117000\\n',\n",
       " \"      FRAME_-117000_NAME               = 'EDM_LANDER'\\n\",\n",
       " '      FRAME_-117000_CLASS              =  3\\n',\n",
       " '      FRAME_-117000_CLASS_ID           = -117000\\n',\n",
       " '      FRAME_-117000_CENTER             = -117\\n',\n",
       " '      CK_-117000_SCLK                  = -117\\n',\n",
       " '      CK_-117000_SPK                   = -117\\n',\n",
       " \"      OBJECT_-117_FRAME                = 'EDM_LANDER'\\n\",\n",
       " '\\n',\n",
       " '      FRAME_EDM_LANDER_CRUISE          = -117001\\n',\n",
       " \"      FRAME_-117001_NAME               = 'EDM_LANDER_CRUISE'\\n\",\n",
       " '      FRAME_-117001_CLASS              =  3\\n',\n",
       " '      FRAME_-117001_CLASS_ID           = -117001\\n',\n",
       " '      FRAME_-117001_CENTER             = -117\\n',\n",
       " '      CK_-117001_SCLK                  = -117\\n',\n",
       " '      CK_-117001_SPK                   = -117\\n',\n",
       " \"      OBJECT_-117_FRAME                = 'EDM_LANDER_CRUISE'\\n\",\n",
       " '\\n',\n",
       " '\\n',\n",
       " '       FRAME_EDM_TOPO               = -117900\\n',\n",
       " \"       FRAME_-117900_NAME           = 'EDM_TOPO'\\n\",\n",
       " '       FRAME_-117900_CLASS          =  4\\n',\n",
       " '       FRAME_-117900_CLASS_ID       =  -117900\\n',\n",
       " '       FRAME_-117900_CENTER         =  -117900\\n',\n",
       " '\\n',\n",
       " \"       TKFRAME_-117900_RELATIVE     = 'IAU_MARS'\\n\",\n",
       " \"       TKFRAME_-117900_SPEC         = 'ANGLES'\\n\",\n",
       " \"       TKFRAME_-117900_UNITS        = 'DEGREES'\\n\",\n",
       " '       TKFRAME_-117900_AXES         = ( 3, 2, 3 )\\n',\n",
       " '       TKFRAME_-117900_ANGLES       = ( 6.15, -91.82, 180.000  )\\n',\n",
       " '\\n',\n",
       " '  \\n',\n",
       " '      FRAME_EDM_SURFACE_FIXED      =  -117901\\n',\n",
       " \"      FRAME_-117901_NAME           = 'EDM_SURFACE_FIXED'\\n\",\n",
       " '      FRAME_-117901_CLASS          =  4\\n',\n",
       " '      FRAME_-117901_CLASS_ID       =  -117901\\n',\n",
       " '      FRAME_-117901_CENTER         =  -117\\n',\n",
       " '\\n',\n",
       " \"      TKFRAME_-117901_RELATIVE     = 'EDM_TOPO'\\n\",\n",
       " \"      TKFRAME_-117901_SPEC         = 'ANGLES'\\n\",\n",
       " \"      TKFRAME_-117901_UNITS        = 'DEGREES'\\n\",\n",
       " '      TKFRAME_-117901_AXES         = ( 1,      2,      3     )\\n',\n",
       " '      TKFRAME_-117901_ANGLES       = ( 0.000,  0.000,  0.000 )\\n',\n",
       " '\\n',\n",
       " '\\n',\n",
       " '      FRAME_EDM_LANDED_LOCAL       =  -117903\\n',\n",
       " \"      FRAME_-117903_NAME           = 'EDM_LANDED_LOCAL'\\n\",\n",
       " '      FRAME_-117903_CLASS          =  4\\n',\n",
       " '      FRAME_-117903_CLASS_ID       =  -117903\\n',\n",
       " '      FRAME_-117903_CENTER         =  -117\\n',\n",
       " '\\n',\n",
       " \"      TKFRAME_-117903_RELATIVE     = 'EDM_TOPO'\\n\",\n",
       " \"      TKFRAME_-117903_SPEC         = 'ANGLES'\\n\",\n",
       " \"      TKFRAME_-117903_UNITS        = 'DEGREES'\\n\",\n",
       " '      TKFRAME_-117903_AXES         = (   1,      2,      3     )\\n',\n",
       " '      TKFRAME_-117903_ANGLES       = ( 180.000,  0.000,  0.000 )\\n',\n",
       " '\\n',\n",
       " '\\n',\n",
       " \"      NAIF_BODY_NAME += ( 'EDL DEMONSTRATOR MODULE'     )\\n\",\n",
       " '      NAIF_BODY_CODE += ( -117                          )\\n',\n",
       " '\\n',\n",
       " \"      NAIF_BODY_NAME += ( 'EDM'                         )\\n\",\n",
       " '      NAIF_BODY_CODE += ( -117                          )\\n',\n",
       " '      \\n',\n",
       " \"      NAIF_BODY_NAME += ( 'EXOMARS 2016 EDM'            )\\n\",\n",
       " '      NAIF_BODY_CODE += ( -117                          )\\n',\n",
       " '\\n',\n",
       " \"      NAIF_BODY_NAME += ( 'EDM_LANDER'                  )      \\n\",\n",
       " '      NAIF_BODY_CODE += ( -117000                       )\\n',\n",
       " '\\n',\n",
       " \"      NAIF_BODY_NAME += ( 'EDM_LANDING_SITE'            )      \\n\",\n",
       " '      NAIF_BODY_CODE += ( -117900                       )\\n',\n",
       " '      \\n',\n",
       " '\\n',\n",
       " \"      NAIF_BODY_NAME += ( 'EDM_AMELIA'                  )      \\n\",\n",
       " '      NAIF_BODY_CODE += ( -117100                       )\\n',\n",
       " '      \\n',\n",
       " \"      NAIF_BODY_NAME += ( 'EDM_COMARS'                  )      \\n\",\n",
       " '      NAIF_BODY_CODE += ( -117200                       )\\n',\n",
       " '      \\n',\n",
       " \"      NAIF_BODY_NAME += ( 'EDM_DECA'                    )      \\n\",\n",
       " '      NAIF_BODY_CODE += ( -117500                       )\\n',\n",
       " '\\n',\n",
       " \"      NAIF_BODY_NAME += ( 'EDM_DREAMS'                  )      \\n\",\n",
       " '      NAIF_BODY_CODE += ( -117300                       )\\n',\n",
       " '      \\n',\n",
       " \"      NAIF_BODY_NAME += ( 'EDM_INRRI'                   )      \\n\",\n",
       " '      NAIF_BODY_CODE += ( -117400                       )\\n',\n",
       " '\\n']"
      ]
     },
     "execution_count": 62,
     "metadata": {},
     "output_type": "execute_result"
    }
   ],
   "source": [
    "important_lines"
   ]
  },
  {
   "cell_type": "code",
   "execution_count": 68,
   "metadata": {
    "scrolled": true
   },
   "outputs": [],
   "source": [
    "blocks = []\n",
    "block = []\n",
    "for line in important_lines:\n",
    "    if (line == '\\n'):\n",
    "        if (len(block) != 0):\n",
    "            blocks.append(block)\n",
    "        block = []\n",
    "    block.append(line)"
   ]
  },
  {
   "cell_type": "code",
   "execution_count": 69,
   "metadata": {
    "scrolled": true
   },
   "outputs": [
    {
     "data": {
      "text/plain": [
       "[['\\n',\n",
       "  '      FRAME_EDM_LANDER                 = -117000\\n',\n",
       "  \"      FRAME_-117000_NAME               = 'EDM_LANDER'\\n\",\n",
       "  '      FRAME_-117000_CLASS              =  3\\n',\n",
       "  '      FRAME_-117000_CLASS_ID           = -117000\\n',\n",
       "  '      FRAME_-117000_CENTER             = -117\\n',\n",
       "  '      CK_-117000_SCLK                  = -117\\n',\n",
       "  '      CK_-117000_SPK                   = -117\\n',\n",
       "  \"      OBJECT_-117_FRAME                = 'EDM_LANDER'\\n\"],\n",
       " ['\\n',\n",
       "  '      FRAME_EDM_LANDER_CRUISE          = -117001\\n',\n",
       "  \"      FRAME_-117001_NAME               = 'EDM_LANDER_CRUISE'\\n\",\n",
       "  '      FRAME_-117001_CLASS              =  3\\n',\n",
       "  '      FRAME_-117001_CLASS_ID           = -117001\\n',\n",
       "  '      FRAME_-117001_CENTER             = -117\\n',\n",
       "  '      CK_-117001_SCLK                  = -117\\n',\n",
       "  '      CK_-117001_SPK                   = -117\\n',\n",
       "  \"      OBJECT_-117_FRAME                = 'EDM_LANDER_CRUISE'\\n\"],\n",
       " ['\\n'],\n",
       " ['\\n',\n",
       "  '       FRAME_EDM_TOPO               = -117900\\n',\n",
       "  \"       FRAME_-117900_NAME           = 'EDM_TOPO'\\n\",\n",
       "  '       FRAME_-117900_CLASS          =  4\\n',\n",
       "  '       FRAME_-117900_CLASS_ID       =  -117900\\n',\n",
       "  '       FRAME_-117900_CENTER         =  -117900\\n'],\n",
       " ['\\n',\n",
       "  \"       TKFRAME_-117900_RELATIVE     = 'IAU_MARS'\\n\",\n",
       "  \"       TKFRAME_-117900_SPEC         = 'ANGLES'\\n\",\n",
       "  \"       TKFRAME_-117900_UNITS        = 'DEGREES'\\n\",\n",
       "  '       TKFRAME_-117900_AXES         = ( 3, 2, 3 )\\n',\n",
       "  '       TKFRAME_-117900_ANGLES       = ( 6.15, -91.82, 180.000  )\\n'],\n",
       " ['\\n',\n",
       "  '  \\n',\n",
       "  '      FRAME_EDM_SURFACE_FIXED      =  -117901\\n',\n",
       "  \"      FRAME_-117901_NAME           = 'EDM_SURFACE_FIXED'\\n\",\n",
       "  '      FRAME_-117901_CLASS          =  4\\n',\n",
       "  '      FRAME_-117901_CLASS_ID       =  -117901\\n',\n",
       "  '      FRAME_-117901_CENTER         =  -117\\n'],\n",
       " ['\\n',\n",
       "  \"      TKFRAME_-117901_RELATIVE     = 'EDM_TOPO'\\n\",\n",
       "  \"      TKFRAME_-117901_SPEC         = 'ANGLES'\\n\",\n",
       "  \"      TKFRAME_-117901_UNITS        = 'DEGREES'\\n\",\n",
       "  '      TKFRAME_-117901_AXES         = ( 1,      2,      3     )\\n',\n",
       "  '      TKFRAME_-117901_ANGLES       = ( 0.000,  0.000,  0.000 )\\n'],\n",
       " ['\\n'],\n",
       " ['\\n',\n",
       "  '      FRAME_EDM_LANDED_LOCAL       =  -117903\\n',\n",
       "  \"      FRAME_-117903_NAME           = 'EDM_LANDED_LOCAL'\\n\",\n",
       "  '      FRAME_-117903_CLASS          =  4\\n',\n",
       "  '      FRAME_-117903_CLASS_ID       =  -117903\\n',\n",
       "  '      FRAME_-117903_CENTER         =  -117\\n'],\n",
       " ['\\n',\n",
       "  \"      TKFRAME_-117903_RELATIVE     = 'EDM_TOPO'\\n\",\n",
       "  \"      TKFRAME_-117903_SPEC         = 'ANGLES'\\n\",\n",
       "  \"      TKFRAME_-117903_UNITS        = 'DEGREES'\\n\",\n",
       "  '      TKFRAME_-117903_AXES         = (   1,      2,      3     )\\n',\n",
       "  '      TKFRAME_-117903_ANGLES       = ( 180.000,  0.000,  0.000 )\\n'],\n",
       " ['\\n'],\n",
       " ['\\n',\n",
       "  \"      NAIF_BODY_NAME += ( 'EDL DEMONSTRATOR MODULE'     )\\n\",\n",
       "  '      NAIF_BODY_CODE += ( -117                          )\\n'],\n",
       " ['\\n',\n",
       "  \"      NAIF_BODY_NAME += ( 'EDM'                         )\\n\",\n",
       "  '      NAIF_BODY_CODE += ( -117                          )\\n',\n",
       "  '      \\n',\n",
       "  \"      NAIF_BODY_NAME += ( 'EXOMARS 2016 EDM'            )\\n\",\n",
       "  '      NAIF_BODY_CODE += ( -117                          )\\n'],\n",
       " ['\\n',\n",
       "  \"      NAIF_BODY_NAME += ( 'EDM_LANDER'                  )      \\n\",\n",
       "  '      NAIF_BODY_CODE += ( -117000                       )\\n'],\n",
       " ['\\n',\n",
       "  \"      NAIF_BODY_NAME += ( 'EDM_LANDING_SITE'            )      \\n\",\n",
       "  '      NAIF_BODY_CODE += ( -117900                       )\\n',\n",
       "  '      \\n'],\n",
       " ['\\n',\n",
       "  \"      NAIF_BODY_NAME += ( 'EDM_AMELIA'                  )      \\n\",\n",
       "  '      NAIF_BODY_CODE += ( -117100                       )\\n',\n",
       "  '      \\n',\n",
       "  \"      NAIF_BODY_NAME += ( 'EDM_COMARS'                  )      \\n\",\n",
       "  '      NAIF_BODY_CODE += ( -117200                       )\\n',\n",
       "  '      \\n',\n",
       "  \"      NAIF_BODY_NAME += ( 'EDM_DECA'                    )      \\n\",\n",
       "  '      NAIF_BODY_CODE += ( -117500                       )\\n'],\n",
       " ['\\n',\n",
       "  \"      NAIF_BODY_NAME += ( 'EDM_DREAMS'                  )      \\n\",\n",
       "  '      NAIF_BODY_CODE += ( -117300                       )\\n',\n",
       "  '      \\n',\n",
       "  \"      NAIF_BODY_NAME += ( 'EDM_INRRI'                   )      \\n\",\n",
       "  '      NAIF_BODY_CODE += ( -117400                       )\\n']]"
      ]
     },
     "execution_count": 69,
     "metadata": {},
     "output_type": "execute_result"
    }
   ],
   "source": [
    "blocks"
   ]
  },
  {
   "cell_type": "code",
   "execution_count": 72,
   "metadata": {},
   "outputs": [],
   "source": [
    "important_blocks = []\n",
    "for block in blocks:\n",
    "    is_important = False\n",
    "    for line in block:\n",
    "        if (line.find(class_keyword) != -1):\n",
    "            is_important = True\n",
    "            break\n",
    "    if is_important:\n",
    "        important_blocks.append(block)"
   ]
  },
  {
   "cell_type": "code",
   "execution_count": 73,
   "metadata": {},
   "outputs": [
    {
     "data": {
      "text/plain": [
       "[['\\n',\n",
       "  '      FRAME_EDM_LANDER                 = -117000\\n',\n",
       "  \"      FRAME_-117000_NAME               = 'EDM_LANDER'\\n\",\n",
       "  '      FRAME_-117000_CLASS              =  3\\n',\n",
       "  '      FRAME_-117000_CLASS_ID           = -117000\\n',\n",
       "  '      FRAME_-117000_CENTER             = -117\\n',\n",
       "  '      CK_-117000_SCLK                  = -117\\n',\n",
       "  '      CK_-117000_SPK                   = -117\\n',\n",
       "  \"      OBJECT_-117_FRAME                = 'EDM_LANDER'\\n\"],\n",
       " ['\\n',\n",
       "  '      FRAME_EDM_LANDER_CRUISE          = -117001\\n',\n",
       "  \"      FRAME_-117001_NAME               = 'EDM_LANDER_CRUISE'\\n\",\n",
       "  '      FRAME_-117001_CLASS              =  3\\n',\n",
       "  '      FRAME_-117001_CLASS_ID           = -117001\\n',\n",
       "  '      FRAME_-117001_CENTER             = -117\\n',\n",
       "  '      CK_-117001_SCLK                  = -117\\n',\n",
       "  '      CK_-117001_SPK                   = -117\\n',\n",
       "  \"      OBJECT_-117_FRAME                = 'EDM_LANDER_CRUISE'\\n\"],\n",
       " ['\\n',\n",
       "  '       FRAME_EDM_TOPO               = -117900\\n',\n",
       "  \"       FRAME_-117900_NAME           = 'EDM_TOPO'\\n\",\n",
       "  '       FRAME_-117900_CLASS          =  4\\n',\n",
       "  '       FRAME_-117900_CLASS_ID       =  -117900\\n',\n",
       "  '       FRAME_-117900_CENTER         =  -117900\\n'],\n",
       " ['\\n',\n",
       "  '  \\n',\n",
       "  '      FRAME_EDM_SURFACE_FIXED      =  -117901\\n',\n",
       "  \"      FRAME_-117901_NAME           = 'EDM_SURFACE_FIXED'\\n\",\n",
       "  '      FRAME_-117901_CLASS          =  4\\n',\n",
       "  '      FRAME_-117901_CLASS_ID       =  -117901\\n',\n",
       "  '      FRAME_-117901_CENTER         =  -117\\n'],\n",
       " ['\\n',\n",
       "  '      FRAME_EDM_LANDED_LOCAL       =  -117903\\n',\n",
       "  \"      FRAME_-117903_NAME           = 'EDM_LANDED_LOCAL'\\n\",\n",
       "  '      FRAME_-117903_CLASS          =  4\\n',\n",
       "  '      FRAME_-117903_CLASS_ID       =  -117903\\n',\n",
       "  '      FRAME_-117903_CENTER         =  -117\\n']]"
      ]
     },
     "execution_count": 73,
     "metadata": {},
     "output_type": "execute_result"
    }
   ],
   "source": [
    "important_blocks"
   ]
  },
  {
   "cell_type": "code",
   "execution_count": 83,
   "metadata": {},
   "outputs": [
    {
     "name": "stdout",
     "output_type": "stream",
     "text": [
      "{'name': \"'EDM_LANDER\", 'class': '3', 'id': '-117000'}\n",
      "{'name': \"'EDM_LANDER_CRUISE\", 'class': '3', 'id': '-117001'}\n",
      "{'name': \"'EDM_TOPO\", 'class': '4', 'id': '-117900'}\n",
      "{'name': \"'EDM_SURFACE_FIXED\", 'class': '4', 'id': '-117901'}\n",
      "{'name': \"'EDM_LANDED_LOCAL\", 'class': '4', 'id': '-117903'}\n"
     ]
    }
   ],
   "source": [
    "for block in important_blocks:\n",
    "    data = dict()\n",
    "    for line in block:\n",
    "        findData(line, data)\n",
    "    print(data)"
   ]
  },
  {
   "cell_type": "code",
   "execution_count": null,
   "metadata": {
    "collapsed": true
   },
   "outputs": [],
   "source": []
  },
  {
   "cell_type": "code",
   "execution_count": null,
   "metadata": {
    "collapsed": true
   },
   "outputs": [],
   "source": []
  }
 ],
 "metadata": {
  "kernelspec": {
   "display_name": "Python 3",
   "language": "python",
   "name": "python3"
  },
  "language_info": {
   "codemirror_mode": {
    "name": "ipython",
    "version": 3
   },
   "file_extension": ".py",
   "mimetype": "text/x-python",
   "name": "python",
   "nbconvert_exporter": "python",
   "pygments_lexer": "ipython3",
   "version": "3.7.1"
  }
 },
 "nbformat": 4,
 "nbformat_minor": 2
}
